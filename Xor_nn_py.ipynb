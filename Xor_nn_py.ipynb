{
  "cells": [
    {
      "cell_type": "markdown",
      "metadata": {
        "id": "IwVulxpkV0FN"
      },
      "source": [
        "Nor Gate in NN with  2-binary  inputs\n",
        "\n",
        "Using Numpy"
      ]
    },
    {
      "cell_type": "code",
      "execution_count": null,
      "metadata": {
        "colab": {
          "base_uri": "https://localhost:8080/"
        },
        "id": "Ue_1SpR3MOu3",
        "outputId": "e6269934-491c-49da-f45e-5f20b05208e2"
      },
      "outputs": [
        {
          "name": "stdout",
          "output_type": "stream",
          "text": [
            "[1. 0. 0. 0. 1.]\n"
          ]
        }
      ],
      "source": [
        "import numpy as np\n",
        "\n",
        "inputs = np.array([[0, 0],\n",
        "                   [0, 1],\n",
        "                   [1, 0],\n",
        "                   [1, 1],\n",
        "                   [1, -1]])\n",
        "\n",
        "weights = [-2, -2]   # weights\n",
        "\n",
        "bias = 1             #Bias\n",
        "\n",
        "output = np.dot(inputs, weights) + bias    #basic Neural Structure\n",
        "\n",
        "sigmoid = 1/(1+np.exp(-output))   #Activation Function (sigmoid)\n",
        "\n",
        "print(np.round(sigmoid))"
      ]
    },
    {
      "cell_type": "markdown",
      "metadata": {
        "id": "5zeDJTZ6qAqf"
      },
      "source": [
        "Nand Gate in NN with 2-binary inputs\n",
        "using numpy"
      ]
    },
    {
      "cell_type": "code",
      "execution_count": null,
      "metadata": {
        "colab": {
          "base_uri": "https://localhost:8080/"
        },
        "id": "NkjlJImPqAN3",
        "outputId": "216c5d82-4322-43c7-c3f5-a1ae9e556bfa"
      },
      "outputs": [
        {
          "name": "stdout",
          "output_type": "stream",
          "text": [
            "[1. 1. 1. 0.]\n"
          ]
        }
      ],
      "source": [
        "import numpy as np\n",
        "\n",
        "inputs = np.array([[0, 0],\n",
        "                   [0, 1],\n",
        "                   [1, 0],\n",
        "                   [1, 1]])\n",
        "\n",
        "weights = [-2, -2]\n",
        "\n",
        "bias = 3\n",
        "\n",
        "output = np.dot(inputs, weights) + bias\n",
        "\n",
        "sigmoid = 1/(1+np.exp(-output))\n",
        "\n",
        "print(np.round(sigmoid))"
      ]
    },
    {
      "cell_type": "markdown",
      "metadata": {
        "id": "XTfiT_rzN872"
      },
      "source": [
        "And Gate in NN with  2-binary  inputs\n",
        "\n",
        "Using Numpy"
      ]
    },
    {
      "cell_type": "code",
      "execution_count": null,
      "metadata": {
        "colab": {
          "base_uri": "https://localhost:8080/"
        },
        "id": "a3PHtmoZOyTA",
        "outputId": "76e01ff0-129b-4f4d-acdc-2b463e81ee64"
      },
      "outputs": [
        {
          "name": "stdout",
          "output_type": "stream",
          "text": [
            "[0. 0. 0. 1.]\n"
          ]
        }
      ],
      "source": [
        "import numpy as np\n",
        "\n",
        "inputs = np.array([[0, 0],\n",
        "                   [0, 1],\n",
        "                   [1, 0],\n",
        "                   [1, 1]])\n",
        "\n",
        "weights = [2, 2]\n",
        "\n",
        "bias = -3\n",
        "\n",
        "output = np.dot(inputs, weights) + bias\n",
        "\n",
        "sigmoid = 1/(1+np.exp(-output))\n",
        "\n",
        "print(np.round(sigmoid))"
      ]
    },
    {
      "cell_type": "markdown",
      "metadata": {
        "id": "XxtCDBX7SqDw"
      },
      "source": [
        "XOR  Gate in NN with  2-binary  inputs\n",
        "\n",
        "Using Numpy"
      ]
    },
    {
      "cell_type": "code",
      "execution_count": null,
      "metadata": {
        "colab": {
          "base_uri": "https://localhost:8080/"
        },
        "id": "ZGpj0T7GStsY",
        "outputId": "ea2b64f2-5ae4-469a-c5cc-0b0517ac8676"
      },
      "outputs": [
        {
          "name": "stdout",
          "output_type": "stream",
          "text": [
            "[0 1 1 0]\n"
          ]
        }
      ],
      "source": [
        "import numpy as np\n",
        "\n",
        "inputs = np.array([[0, 0],\n",
        "                   [0, 1],\n",
        "                   [1, 0],\n",
        "                   [1, 1]])\n",
        "\n",
        "weights1 = [-2, -2]\n",
        "\n",
        "weights2 = [2, 2]\n",
        "\n",
        "bias1 = 1\n",
        "\n",
        "bias2 = -3\n",
        "\n",
        "a = np.dot(inputs, weights1) + bias1\n",
        "a1= np.maximum(0, a)\n",
        "\n",
        "b = np.dot(inputs, weights2) + bias2\n",
        "b1 = np.maximum(0, b)\n",
        "\n",
        "weights3 =[-2, -2]\n",
        "\n",
        "bias3 = 1\n",
        "\n",
        "output = a1*weights3[0] +b1*weights3[1] + bias3\n",
        "\n",
        "relu = np.maximum(0, output)\n",
        "\n",
        "print(np.round(relu))"
      ]
    },
    {
      "cell_type": "markdown",
      "metadata": {
        "id": "47bzu8GBV6QL"
      },
      "source": [
        "Nor Gate in NN with  3-binary  inputs\n",
        "\n",
        "Using Numpy\n"
      ]
    },
    {
      "cell_type": "code",
      "execution_count": null,
      "metadata": {
        "colab": {
          "base_uri": "https://localhost:8080/"
        },
        "id": "lxacV7p8BZ4l",
        "outputId": "8708056a-134b-4f9f-91d9-4128d99ce39d"
      },
      "outputs": [
        {
          "name": "stdout",
          "output_type": "stream",
          "text": [
            "[1. 0. 0. 0. 0. 0. 0. 0.]\n"
          ]
        }
      ],
      "source": [
        "import numpy as np\n",
        "\n",
        "inputs = np.array([[0, 0, 0],\n",
        "                   [0, 0, 1],\n",
        "                   [0, 1, 0],\n",
        "                   [0, 1, 1],\n",
        "                   [1, 0, 0],\n",
        "                   [1, 0, 1],\n",
        "                   [1, 1, 0],\n",
        "                   [1, 1, 1]])\n",
        "\n",
        "weights = [-2, -2, -2]\n",
        "\n",
        "bias = 1\n",
        "\n",
        "output = np.dot(inputs, weights) + bias\n",
        "\n",
        "sigmoid = 1/(1+np.exp(-output))\n",
        "\n",
        "print(np.round(sigmoid))"
      ]
    },
    {
      "cell_type": "markdown",
      "metadata": {
        "id": "AvvL10vWBiI-"
      },
      "source": [
        "AND Gate in NN with  3-binary  inputs\n",
        "\n",
        "Using Numpy\n"
      ]
    },
    {
      "cell_type": "code",
      "execution_count": null,
      "metadata": {
        "colab": {
          "base_uri": "https://localhost:8080/"
        },
        "id": "HOyg7ip4BnIg",
        "outputId": "32ce7b72-7c64-4651-f846-f802296f53c7"
      },
      "outputs": [
        {
          "name": "stdout",
          "output_type": "stream",
          "text": [
            "[0. 0. 0. 0. 0. 0. 0. 1.]\n"
          ]
        }
      ],
      "source": [
        "import numpy as np\n",
        "\n",
        "inputs = np.array([[0, 0, 0],\n",
        "                   [0, 0, 1],\n",
        "                   [0, 1, 0],\n",
        "                   [0, 1, 1],\n",
        "                   [1, 0, 0],\n",
        "                   [1, 0, 1],\n",
        "                   [1, 1, 0],\n",
        "                   [1, 1, 1]])\n",
        "\n",
        "weights = [2, 2, 2]\n",
        "\n",
        "bias = -5\n",
        "\n",
        "output = np.dot(inputs, weights) + bias\n",
        "\n",
        "sigmoid = 1/(1+np.exp(-output))\n",
        "\n",
        "print(np.round(sigmoid))"
      ]
    },
    {
      "cell_type": "markdown",
      "metadata": {
        "id": "AMushC-Iwkbx"
      },
      "source": [
        "Nand Gate in NN with 3-binary inputs\n",
        "Using Numpy"
      ]
    },
    {
      "cell_type": "code",
      "execution_count": null,
      "metadata": {
        "colab": {
          "base_uri": "https://localhost:8080/"
        },
        "id": "tJLUB7diwrlL",
        "outputId": "62c2ee84-37c0-4dd4-d21f-d3f7455726de"
      },
      "outputs": [
        {
          "name": "stdout",
          "output_type": "stream",
          "text": [
            "[1. 1. 1. 1. 1. 1. 1. 0.]\n"
          ]
        }
      ],
      "source": [
        "import numpy as np\n",
        "\n",
        "inputs = np.array([[0, 0, 0],\n",
        "                   [0, 0, 1],\n",
        "                   [0, 1, 0],\n",
        "                   [0, 1, 1],\n",
        "                   [1, 0, 0],\n",
        "                   [1, 0, 1],\n",
        "                   [1, 1, 0],\n",
        "                   [1, 1, 1]])\n",
        "\n",
        "weights = [-2, -2, -2]\n",
        "\n",
        "bias = 5\n",
        "\n",
        "output = np.dot(inputs, weights) + bias\n",
        "\n",
        "sigmoid = 1/(1+np.exp(-output))\n",
        "\n",
        "print(np.round(sigmoid))"
      ]
    },
    {
      "cell_type": "markdown",
      "metadata": {
        "id": "E-duyrFMDFMM"
      },
      "source": [
        "XOR Gate in NN with  3-binary  inputs\n",
        "\n",
        "Using Numpy\n",
        "\n"
      ]
    },
    {
      "cell_type": "code",
      "execution_count": null,
      "metadata": {
        "colab": {
          "base_uri": "https://localhost:8080/"
        },
        "id": "dU7PNImaDLd5",
        "outputId": "1c903d53-85e5-4719-8d39-a141e7c1f193"
      },
      "outputs": [
        {
          "name": "stdout",
          "output_type": "stream",
          "text": [
            "Predicted Output: [[1.]]\n"
          ]
        }
      ],
      "source": [
        "import numpy as np\n",
        "\n",
        "# Define the sigmoid activation function and its derivative\n",
        "def sigmoid(x):\n",
        "    return 1 / (1 + np.exp(-x))\n",
        "\n",
        "def sigmoid_derivative(x):\n",
        "    return x * (1 - x)\n",
        "\n",
        "# Neural Network class\n",
        "class NeuralNetwork:\n",
        "    def __init__(self, input_size, hidden_size, output_size):\n",
        "        self.input_size = input_size\n",
        "        self.hidden_size = hidden_size\n",
        "        self.output_size = output_size\n",
        "\n",
        "        # Initialize weights and biases for the hidden layer and output layer\n",
        "        self.weights_input_hidden = np.random.rand(self.input_size, self.hidden_size)\n",
        "        self.bias_hidden = np.random.rand(self.hidden_size)\n",
        "        self.weights_hidden_output = np.random.rand(self.hidden_size, self.output_size)\n",
        "        self.bias_output = np.random.rand(self.output_size)\n",
        "\n",
        "    def forward_propagation(self, X):\n",
        "        # Calculate the output of the hidden layer\n",
        "        hidden_input = np.dot(X, self.weights_input_hidden) + self.bias_hidden\n",
        "        hidden_output = sigmoid(hidden_input)\n",
        "\n",
        "        # Calculate the output of the output layer\n",
        "        output_input = np.dot(hidden_output, self.weights_hidden_output) + self.bias_output\n",
        "        output = sigmoid(output_input)\n",
        "\n",
        "        return output\n",
        "\n",
        "    def train(self, X, y, epochs):\n",
        "        for epoch in range(epochs):\n",
        "            # Forward propagation\n",
        "            hidden_input = np.dot(X, self.weights_input_hidden) + self.bias_hidden\n",
        "            hidden_output = sigmoid(hidden_input)\n",
        "\n",
        "            output_input = np.dot(hidden_output, self.weights_hidden_output) + self.bias_output\n",
        "            output = sigmoid(output_input)\n",
        "\n",
        "            # Calculate the error\n",
        "            error = y - output\n",
        "\n",
        "            # Backpropagation\n",
        "            output_delta = error * sigmoid_derivative(output)\n",
        "            hidden_error = output_delta.dot(self.weights_hidden_output.T)\n",
        "            hidden_delta = hidden_error * sigmoid_derivative(hidden_output)\n",
        "\n",
        "            # Update weights and biases\n",
        "            self.weights_hidden_output += hidden_output.T.dot(output_delta)\n",
        "            self.bias_output += np.sum(output_delta, axis=0)\n",
        "            self.weights_input_hidden += X.T.dot(hidden_delta)\n",
        "            self.bias_hidden += np.sum(hidden_delta, axis=0)\n",
        "\n",
        "\n",
        "# Create the neural network with 3 input neurons, 4 hidden neurons, and 1 output neuron\n",
        "nn = NeuralNetwork(input_size=3, hidden_size=4, output_size=1)\n",
        "\n",
        "# Sample input data (you can replace this with your own data)\n",
        "X = np.array([[0, 0, 0],\n",
        "              [0, 0, 1],\n",
        "              [0, 1, 0],\n",
        "              [0, 1, 1],\n",
        "              [1, 0, 0],\n",
        "              [1, 0, 1],\n",
        "              [1, 1, 0],\n",
        "              [1, 1, 1]])\n",
        "\n",
        "# Sample output data\n",
        "y = np.array([[0],\n",
        "              [1],\n",
        "              [1],\n",
        "              [0],\n",
        "              [1],\n",
        "              [0],\n",
        "              [0],\n",
        "              [1]])\n",
        "\n",
        "# Train the neural network\n",
        "nn.train(X, y, epochs=10000, verbose=1)\n",
        "\n",
        "# Test the neural network with new data\n",
        "new_data = np.array([[0, 1, 0]])\n",
        "predicted_output = nn.forward_propagation(new_data)\n",
        "print(\"Predicted Output:\", np.round(predicted_output))\n"
      ]
    }
  ],
  "metadata": {
    "colab": {
      "provenance": []
    },
    "kernelspec": {
      "display_name": "Python 3",
      "name": "python3"
    },
    "language_info": {
      "name": "python"
    }
  },
  "nbformat": 4,
  "nbformat_minor": 0
}
